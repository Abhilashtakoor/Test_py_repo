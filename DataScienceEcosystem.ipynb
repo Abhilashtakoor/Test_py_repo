{
 "cells": [
  {
   "cell_type": "markdown",
   "id": "92098e1d-8d60-440b-9ede-3044b0ef1e94",
   "metadata": {},
   "source": [
    "# Data Science Tools and Ecosystem"
   ]
  },
  {
   "cell_type": "markdown",
   "id": "22e88694-8bc7-446b-80da-5f24fc808d62",
   "metadata": {},
   "source": [
    "## In this notebook, Data Science Tools and Ecosystem are summarized."
   ]
  },
  {
   "cell_type": "markdown",
   "id": "fd99f3de-9b1e-4d09-b043-7691e4066e0a",
   "metadata": {},
   "source": [
    "### Objectives: \n",
    "* List of the Popular languages in Data Science\n",
    "* List of the Popular libraries in Data Science\n",
    "* List of Common Data Science tools\n",
    "* Arithmetic expression in Jupyter Nootbook"
   ]
  },
  {
   "attachments": {},
   "cell_type": "markdown",
   "id": "cb8828d3-9604-4317-96f8-90636f4b39f3",
   "metadata": {},
   "source": [
    "## Some of the popular languages that Data Scientists use are:\n",
    "### Ordered list: \n",
    "1. Python\n",
    "2. R Language\n",
    "3. SQL"
   ]
  },
  {
   "attachments": {},
   "cell_type": "markdown",
   "id": "a6f37a56-45ee-4db0-bc72-3533f591dbfd",
   "metadata": {},
   "source": [
    "## Some of the commonly used libraries used by Data Scientists include:\n",
    "### order list: \n",
    "1) Pandas\n",
    "2) Numpy \n",
    "3) Matplotlib"
   ]
  },
  {
   "cell_type": "markdown",
   "id": "9a4952cf-425c-40e2-8d79-a3fb9b900e97",
   "metadata": {},
   "source": [
    "| Data Science Tools       |\n",
    "|--------------------------|\n",
    "| Jupyter Notebook         |\n",
    "| RStudio                  |\n",
    "| Apache Zeppelin          |\n"
   ]
  },
  {
   "cell_type": "markdown",
   "id": "532f706f-e7a0-4943-b0ef-ef234ecf6c5b",
   "metadata": {},
   "source": [
    "### Below are a few examples of evaluating arithmetic expressions in Python."
   ]
  },
  {
   "cell_type": "code",
   "execution_count": 6,
   "id": "4f1818a9-eaf0-464a-906d-b1ef61b5cba4",
   "metadata": {},
   "outputs": [
    {
     "data": {
      "text/plain": [
       "17"
      ]
     },
     "execution_count": 6,
     "metadata": {},
     "output_type": "execute_result"
    }
   ],
   "source": [
    "# This a simple arithmetic expression to mutiply then add integers.\n",
    "\n",
    "(3*4)+5\n"
   ]
  },
  {
   "cell_type": "code",
   "execution_count": 7,
   "id": "16748657-8426-4c9f-b007-c2da407685b6",
   "metadata": {},
   "outputs": [
    {
     "data": {
      "text/plain": [
       "3.3333333333333335"
      ]
     },
     "execution_count": 7,
     "metadata": {},
     "output_type": "execute_result"
    }
   ],
   "source": [
    "# This will convert 200 minutes to hours by diving by 60\n",
    "\n",
    "200/60"
   ]
  },
  {
   "cell_type": "markdown",
   "id": "a7a9e890-1316-42d0-9719-4ad96bd47e00",
   "metadata": {},
   "source": [
    "## Author\n",
    "Abhilash Takoor"
   ]
  },
  {
   "cell_type": "code",
   "execution_count": null,
   "id": "4e6a7648-90d5-4c98-8f82-b320ea60a218",
   "metadata": {},
   "outputs": [],
   "source": []
  }
 ],
 "metadata": {
  "kernelspec": {
   "display_name": "Python 3 (ipykernel)",
   "language": "python",
   "name": "python3"
  },
  "language_info": {
   "codemirror_mode": {
    "name": "ipython",
    "version": 3
   },
   "file_extension": ".py",
   "mimetype": "text/x-python",
   "name": "python",
   "nbconvert_exporter": "python",
   "pygments_lexer": "ipython3",
   "version": "3.12.8"
  }
 },
 "nbformat": 4,
 "nbformat_minor": 5
}
